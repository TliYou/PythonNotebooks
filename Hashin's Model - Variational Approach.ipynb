{
 "cells": [
  {
   "cell_type": "markdown",
   "metadata": {},
   "source": [
    "# Hashin's Variational Model \n",
    "\n",
    "Notebook made by Kristine M. Jespersen\n",
    "\n",
    "XX intro explaining that it is a model that estimates the stiffness degradation for cross-ply composites caused by transverse cracking."
   ]
  },
  {
   "cell_type": "markdown",
   "metadata": {},
   "source": [
    "First, we import the relevant packages:"
   ]
  },
  {
   "cell_type": "code",
   "execution_count": 1,
   "metadata": {
    "collapsed": true
   },
   "outputs": [],
   "source": [
    "import numpy as np\n",
    "import math as m\n",
    "import matplotlib.pyplot as plt\n",
    "%matplotlib inline "
   ]
  },
  {
   "cell_type": "markdown",
   "metadata": {},
   "source": [
    "For easy repeated use of the model we wish to implement, it is useful to create it as a function. When doing so, it is necessary to first think about which input and output parameters we wish the function to have. In the case of Hashin's model, the main input parameters will be the material properties: $E_a$, $E_t$, $G_t$ and $\\nu_a$ and the layer thicknesses $t_1$ and $t_2$. Additional parameters can be added to one's liking, and in this case we choose to also add a maximum value for the crack density, c, and a toggle for normalisation of the stiffness. \n",
    "\n",
    "This leads to the following function definition, where cMax and normToggle are optional input parameters with a default value of 1."
   ]
  },
  {
   "cell_type": "code",
   "execution_count": 5,
   "metadata": {},
   "outputs": [],
   "source": [
    "def hashin1985(Ea, Et, Ga, Gt, va, vt, t1, t2, cMax=1, normToggle=1):\n",
    "    \"\"\"\n",
    "    This code was written by Kristine Munk Jespersen (kmun@dtu.dk)\n",
    "    \n",
    "    Parameters\n",
    "    ----------\n",
    "    Ea : float\n",
    "        Young's modulus in fibre direction (load dir, 0 deg ply)\n",
    "    Et : float\n",
    "        Young's modulus in transverse direction (load dir, 90 deg ply)\n",
    "    Ga : float\n",
    "        Axial shear modulus (load dir, 0 deg ply)\n",
    "    Gt : float\n",
    "        Transverse shear modulus (load dir, 90 deg ply)\n",
    "    va : float\n",
    "        associated axial Poisson's ratio (load dir, 0 deg ply)\n",
    "    vt : float\n",
    "        associated transverse Poisson's ratio (load dir, 90 deg ply)\n",
    "    t1 : float\n",
    "        thickness of 90 deg layer(s).\n",
    "    t2 : float\n",
    "        thickness of 0 deg layer (s).\n",
    "    cMax : float (default value = 1)\n",
    "        Max value for the crack density \n",
    "    normToggle : int (default value = 1)\n",
    "        Output normalized stiffness (=1), or absoulute stiffness (=0)\n",
    "    Returns\n",
    "    -------\n",
    "    Ex : ndarray, shape (N)\n",
    "        Stiffness degradation as a function of crack density array\n",
    "    c : ndarray, shape (N)\n",
    "        Crack density array following the Ex array.\n",
    "    ExMin : float\n",
    "        Stiffness at crack saturation (lower bound value)\n",
    "    \n",
    "    References\n",
    "    ----------\n",
    "    .. [1] Z. Hashin, Analysis of cracked laminates: a variational approach,\n",
    "           Mechanics of materials 4 (1985) 121-136   \n",
    "    \"\"\"\n",
    "    \n",
    "    #Other parameters (Not to be modified)\n",
    "    h=t1+t2\n",
    "    lambda1=t2/t1\n",
    "    E_0=t2/h*Ea+t1/h*Et\n",
    "    print('t2='+str(t2)+', t1='+str(t1)+', h='+str(h)+', Ea='+str(E_a)+', Et='+str(E_t)+'--> E0='+str(E_0))  \n",
    "    k1=Et/E_0\n",
    "    c=np.linspace(0,cMax,100)    \n",
    "    \n",
    "    # Constants and other parameters from Hashin\n",
    "    C00=1/Et+1/(lambda1*Ea)\n",
    "    C02=(vt/Et)*(lambda1+2./3.)-(va*lambda1/(3.*Ea))\n",
    "    C22=(lambda1+1)*(3*lambda1**2.+12.*lambda1+8.)/(60.*Et)\n",
    "    C11=1./3.*(1/Gt+lambda1/Ga)\n",
    "    q=C00/C22\n",
    "    p=(C02-C11)/C22\n",
    "    theta = m.atan(np.sqrt(4*q/(p**2.)-1.))\n",
    "    alpha=q**(1./4.)*np.cos(1/2.*theta);\n",
    "    beta=q**(1./4.)*np.sin(1/2.*theta);\n",
    "        \n",
    "    #print('E0='+str(E_0)+', q='+str(q)+', p='+str(p))        \n",
    "    \n",
    "    # Limiting value for the stiffness degradation (Hashin)\n",
    "    C_lim=1./E_0+k1**2./(lambda1+1.)*(1/Et+1./(lambda1*Ea))\n",
    "    Elim=1./C_lim\n",
    "    \n",
    "    # Stiffness as function of the crack density assuming equal space between cracks and no interaction \n",
    "    rho=1/(2*c*t1)\n",
    "    eta = (3.*lambda1**2.+12.*lambda1+8.)/60.\n",
    "    chi=2*alpha*beta*(alpha**2+beta**2)*(np.cosh(2.*alpha*rho)-np.cos(2*beta*rho))/(alpha*np.sin(2*beta*rho)+beta*np.sinh(2*alpha*rho))\n",
    "    chi[np.isnan(chi)] = 0\n",
    "    compl=1/E_0+1/Et*k1**2*eta*chi/rho\n",
    "    Ex=1/compl\n",
    "       \n",
    "    \n",
    "    if normToggle==1:\n",
    "        return Ex/E_0, c, Elim/E_0\n",
    "    else:\n",
    "        return Ex, c, Elim"
   ]
  },
  {
   "cell_type": "markdown",
   "metadata": {},
   "source": [
    "Now let's try to use the function using the same parameters as in Hashin 1985 (note that the warnings below are caused for a crack density of zero and can be ignored):"
   ]
  },
  {
   "cell_type": "code",
   "execution_count": 3,
   "metadata": {},
   "outputs": [
    {
     "name": "stdout",
     "output_type": "stream",
     "text": [
      "t2=0.203, t1=0.609, h=0.812, Ea=41.7, Et=13.0--> E0=20.174999999999997\n"
     ]
    }
   ],
   "source": [
    "t2=0.203\n",
    "t1=3*t2\n",
    "E_a=41.7\n",
    "nu_a=0.30\n",
    "E_t=13.\n",
    "nu_t=0.42\n",
    "G_a=3.4\n",
    "G_t=4.580\n",
    "cMax=1     \n",
    "\n",
    "ExNorm,c,ElimNorm = hashin1985(E_a, E_t, G_a, G_t, nu_a, nu_t, t1, t2, cMax)"
   ]
  },
  {
   "cell_type": "markdown",
   "metadata": {},
   "source": [
    "And plot the results:"
   ]
  },
  {
   "cell_type": "code",
   "execution_count": 4,
   "metadata": {},
   "outputs": [
    {
     "data": {
      "text/plain": [
       "<matplotlib.legend.Legend at 0x80a76d8>"
      ]
     },
     "execution_count": 4,
     "metadata": {},
     "output_type": "execute_result"
    },
    {
     "data": {
      "image/png": "[encoded data removed]",
      "text/plain": [
       "<matplotlib.figure.Figure at 0x7ed3c50>"
      ]
     },
     "metadata": {},
     "output_type": "display_data"
    }
   ],
   "source": [
    "# Plot figure\n",
    "plt.figure()\n",
    "ax=plt.gca()\n",
    "plt.plot(c,ExNorm,linewidth=3,label='Hashin 1985, Eq. 2.46')\n",
    "plt.ylabel('$E_x$/$E_0$', fontsize=16)\n",
    "plt.xlabel('Crack density [cracks/mm]', fontsize=16)\n",
    "plt.title('Hashin 1985 Fig. 3 replicate $[0,90_3]_s$', fontsize=20)\n",
    "ax.set_ylim([0,1])\n",
    "ax.set_xlim([0,cMax])\n",
    "plt.plot((0, cMax), (ElimNorm, ElimNorm), 'k--',linewidth=3,label='Hashin 1985, Eq. 2.51 (Lower Bound)')\n",
    "plt.legend(numpoints=1)"
   ]
  }
 ],
 "metadata": {
  "kernelspec": {
   "display_name": "Python 3",
   "language": "python",
   "name": "python3"
  },
  "language_info": {
   "codemirror_mode": {
    "name": "ipython",
    "version": 3
   },
   "file_extension": ".py",
   "mimetype": "text/x-python",
   "name": "python",
   "nbconvert_exporter": "python",
   "pygments_lexer": "ipython3",
   "version": "3.6.1"
  }
 },
 "nbformat": 4,
 "nbformat_minor": 2
}
