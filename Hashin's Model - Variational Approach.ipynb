{
 "cells": [
  {
   "cell_type": "markdown",
   "metadata": {},
   "source": [
    "# Hashin's Variational Model \n",
    "\n",
    "Notebook made by Kristine M. Jespersen\n",
    "\n",
    "-------------Below is still draft!-----------------\n",
    "\n",
    "This notebook focuses on how to apply Hashin's model to estimate a stiffness reduction caused by the initiation of transverse cracks in the 90$^{\\circ}$ layers of a cross-ply composite. Focus is not put on explaining the details of the model deriviation, but more on how to use it. For a more detailed description of the method, please see the original paper by Hashin:\n",
    "\n",
    "**Z. Hashin, Analysis of cracked laminates: a variational approach, Mechanics of materials 4 (1985) 121-136**\n",
    "\n",
    "and a later paper by Nairn that expands Hashin's model but also explains it in a different way.\n",
    "\n",
    "**XX Nairn**\n",
    "\n",
    "## 1. Relevant equations\n",
    "\n",
    "The same cross-ply composite as Hashin considered is used for validation purposes. The layup is $[0,90_3]_s$ and cracks are assumed only to appear in the $90^\\circ$ layer. The stresses in the 90$^\\circ$ layer (ply 1, $\\sigma_1$) and the 0$^\\circ$ layer (ply 2, $\\sigma_2$) can be estimated as below as also explained by Nairn:\n",
    "\n",
    "\\begin{equation}\n",
    "    \\sigma_1=\\dfrac{E_T}{E_0}\\sigma_0 \\quad and \\quad \\sigma_2=\\dfrac{E_A}{E_0}\\sigma_0\n",
    "\\end{equation}\n",
    "\n",
    "Where $E_0$ is the composite modulus. $E_T$ and $E_A$ is the transverse and axial stiffness modulus of the lamina, respectively. By simple rule of mixtures (ROM) considerations, the composite modulus can be estimated by:\n",
    "\n",
    "\\begin{equation}\n",
    "    E_0=\\dfrac{t2}{h}E_a+\\dfrac{t1}{h}E_t\n",
    "\\end{equation}\n",
    "\n",
    "\\noindent where t1 and t2 are the thicknesses of the of the 90deg and 9deg layers, respectively, as defined in Fig. XX. The stress ratio for the 90$^\\circ$ as defined by Hashin can then be written as:\n",
    "\n",
    "\\begin{equation}\n",
    "    k_1=\\dfrac{\\sigma_1}{\\sigma_0}= \\dfrac{\\dfrac{E_T}{E_0}\\sigma_0}{\\sigma_0}=\\dfrac{E_T}{E_0}\n",
    "\\end{equation}\n",
    "\n",
    "Hashin derived an expression for the limiting value (lower bound, crack saturation) for the stiffness degradation as:\n",
    "\n",
    "\\begin{equation}\n",
    "    \\dfrac{1}{E_x} \\leq \\dfrac{1}{E_x^0}+\\dfrac{k_1^2}{\\lambda+1}\\left( \\dfrac{1}{E_T}+\\dfrac{1}{\\lambda E_A}\\right)\n",
    "\\end{equation}\n",
    "\n",
    "where $\\lambda=\\dfrac{t_2}{t_1}$. Furthermore, if assuming that the distance between all the cracks is the same and that the cracks are far enough apart not to interact, Hashin provided the following expression:\n",
    "\n",
    "\\begin{equation}\n",
    "    \\dfrac{1}{E_x} \\leq \\dfrac{1}{E_x^0}+\\dfrac{4}{E_T}k_1^2 \\eta(\\lambda)\\alpha (\\alpha^2+\\beta^2)t_1 c\n",
    "\\end{equation}\n",
    "\n",
    "where $c=1/2a=1/2\\rho t_1$ is the crack density, and $\\eta(\\lambda)$ is given by:\n",
    "\n",
    "\\begin{equation}\n",
    "    \\eta(\\lambda)=(3\\lambda^2+12\\lambda+8)/60\n",
    "\\end{equation}\n",
    "\n",
    "For some reason, however, it was not possible for me to get the correct results using the first expression (Eq. XX in Hashin 1985). Therefore, an equivalent expression was derived from the expression in Eq. XX using the exact same assumptions as was done for Eq. XX.\n",
    "\n",
    "\\begin{equation}\n",
    "    \\dfrac{1}{E_x}\\leq \\dfrac{1}{E_x^0}+\n",
    "    \\underbrace{\\dfrac{1}{E_t}k_1^2 \\eta(\\lambda)\\dfrac{\\langle\\chi (\\rho)\\rangle}{\\langle\\rho\\rangle}}_{\\textrm{compliance change due to cracks}}\n",
    "\\end{equation}\n",
    "\n",
    "\n",
    "If assuming the cracks to have the same spacing and that they don't interact, the following applies:\n",
    "\n",
    "\\begin{equation*}\n",
    "    \\begin{split}\n",
    "    \\rho&=\\dfrac{a}{t_1}\\\\\n",
    "    \\langle\\chi (\\rho)\\rangle &=\\chi(\\rho)\\\\\n",
    "    \\langle\\rho\\rangle&=\\rho\n",
    "    \\end{split}\n",
    "\\end{equation*}\n",
    "\n",
    "Here $\\chi (\\rho)$ is given by:\n",
    "\n",
    "\\begin{equation*}\n",
    "    \\chi (\\rho)=2\\alpha\\beta \\left(\\alpha^2+\\beta^2\\right) \\dfrac{\\cosh(2\\alpha\\rho)-\\cos(2\\beta\\rho)}{\\alpha\\sin(2\\beta\\rho)+\\beta\\sinh(2\\alpha\\rho)}\n",
    "\\end{equation*}\n",
    "\n",
    "where $\\alpha$ and $\\beta$ are found by minimizing the complimentary energy using the Euler-Lagrange formulation \\kmunc{I did not look into the derivation of this so much}. They are given by:\n",
    "\n",
    "\\begin{equation*}\n",
    "    \\begin{split}\n",
    "    \\alpha&=\\dfrac{q}{1/4}\\cos\\left(\\dfrac{\\theta}{2}\\right)\\\\\n",
    "    \\beta&=\\dfrac{q}{1/4}\\sin \\left(\\dfrac{\\theta}{2}\\right)\\\\\n",
    "    \\theta&=\\arctan\\left( \\sqrt{4q/p^2-1} \\right)\n",
    "    \\end{split}\n",
    "\\end{equation*}\n",
    "\n",
    "with\n",
    "\n",
    "\\begin{equation*}\n",
    "    \\begin{split}\n",
    "    p &=\\left(C_{02}-C_{11}\\right)/C_{22}\\\\\n",
    "    q &=C_{00}/C_{22}\n",
    "    \\end{split}\n",
    "\\end{equation*}\n",
    "\n",
    "where $C_{00}$, $C_{02}$, $C_{22}$, and $C_{11}$ are constants in the expression for the complementary energy change caused by the presence of cracks. They are given by:\n",
    "\n",
    "\\begin{equation*}\n",
    "    \\begin{split}\n",
    "        C_{00}&=\\dfrac{1}{E_T}+\\dfrac{1}{\\lambda E_A}\\\\\n",
    "        C_{02}&=\\left(\\dfrac{\\nu_T}{E_T}\\right)\\left(\\lambda+\\dfrac{2}{3}\\right)-\\left( \\dfrac{\\nu_A\\lambda}{3 E_A}\\right)\\\\\n",
    "        C_{22}&= \\dfrac{(\\lambda+1)(3\\lambda^2+12\\lambda+8)}{60 E_T}\\\\\n",
    "        C_{11}&= \\dfrac{1}{3}\\left(\\dfrac{1}{G_T}+\\dfrac{\\lambda}{G_A}\\right)\\\\\n",
    "        \\lambda&=\\dfrac{t_2}{t_1}\n",
    "    \\end{split}\n",
    "\\end{equation*}\n",
    "\n",
    "From this, the stiffness degradation can be calculated with only $E_t$, $G_t$, $\\nu_t$, $E_a$, $G_a$, $\\nu_a$, $t_1$, and $t_2$ as input. This is simply done by calculating the constants $C_{00}$, $C_{02}$, $C_{22}$, and $C_{11}$, and insert them into the expressions for $p$ and $q$. From this, $\\alpha$ and $\\beta$ can then be determined and used to determine $\\chi$ followed by $E_x$."
   ]
  },
  {
   "cell_type": "markdown",
   "metadata": {},
   "source": [
    "## 2. Implementing the model using python\n",
    "First, we import the relevant packages:"
   ]
  },
  {
   "cell_type": "code",
   "execution_count": 1,
   "metadata": {
    "collapsed": true
   },
   "outputs": [],
   "source": [
    "import numpy as np\n",
    "import math as m\n",
    "import matplotlib.pyplot as plt\n",
    "%matplotlib inline "
   ]
  },
  {
   "cell_type": "markdown",
   "metadata": {},
   "source": [
    "For easy repeated use of the model we wish to implement, it is useful to create it as a function. When doing so, it is necessary to first think about which input and output parameters we wish the function to have. In the case of Hashin's model, the main input parameters will be the material properties: $E_a$, $E_t$, $G_t$, $\\nu_a$ and $\\nu_t$ and the layer thicknesses $t_1$ and $t_2$. Additional parameters can be added to one's liking, and in this case we choose to also add a maximum value for the crack density, c, and a toggle for normalisation of the stiffness. \n",
    "\n",
    "This leads to the following function definition, where cMax and normToggle are optional input parameters with a default value of 1."
   ]
  },
  {
   "cell_type": "code",
   "execution_count": 5,
   "metadata": {
    "collapsed": true
   },
   "outputs": [],
   "source": [
    "def hashin1985(Ea, Et, Ga, Gt, va, vt, t1, t2, cMax=1, normToggle=1):\n",
    "    \"\"\"\n",
    "    This code was written by Kristine Munk Jespersen (kmun@dtu.dk)\n",
    "    \n",
    "    Parameters\n",
    "    ----------\n",
    "    Ea : float\n",
    "        Young's modulus in fibre direction (load dir, 0 deg ply)\n",
    "    Et : float\n",
    "        Young's modulus in transverse direction (load dir, 90 deg ply)\n",
    "    Ga : float\n",
    "        Axial shear modulus (load dir, 0 deg ply)\n",
    "    Gt : float\n",
    "        Transverse shear modulus (load dir, 90 deg ply)\n",
    "    va : float\n",
    "        associated axial Poisson's ratio (load dir, 0 deg ply)\n",
    "    vt : float\n",
    "        associated transverse Poisson's ratio (load dir, 90 deg ply)\n",
    "    t1 : float\n",
    "        thickness of 90 deg layer(s).\n",
    "    t2 : float\n",
    "        thickness of 0 deg layer (s).\n",
    "    cMax : float (default value = 1)\n",
    "        Max value for the crack density \n",
    "    normToggle : int (default value = 1)\n",
    "        Output normalized stiffness (=1), or absoulute stiffness (=0)\n",
    "    Returns\n",
    "    -------\n",
    "    Ex : ndarray, shape (N)\n",
    "        Stiffness degradation as a function of crack density array\n",
    "    c : ndarray, shape (N)\n",
    "        Crack density array following the Ex array.\n",
    "    ExMin : float\n",
    "        Stiffness at crack saturation (lower bound value)\n",
    "    \n",
    "    References\n",
    "    ----------\n",
    "    .. [1] Z. Hashin, Analysis of cracked laminates: a variational approach,\n",
    "           Mechanics of materials 4 (1985) 121-136   \n",
    "    \"\"\"\n",
    "    \n",
    "    #Other parameters (Not to be modified)\n",
    "    h=t1+t2\n",
    "    lambda1=t2/t1\n",
    "    E_0=t2/h*Ea+t1/h*Et\n",
    "    print('t2='+str(t2)+', t1='+str(t1)+', h='+str(h)+', Ea='+str(E_a)+', Et='+str(E_t)+'--> E0='+str(E_0))  \n",
    "    k1=Et/E_0    # I am not 100% sure about the determination of k1.. Check up!\n",
    "    c=np.linspace(0,cMax,100)    \n",
    "    \n",
    "    # Constants and other parameters from Hashin\n",
    "    C00=1/Et+1/(lambda1*Ea)\n",
    "    C02=(vt/Et)*(lambda1+2./3.)-(va*lambda1/(3.*Ea))\n",
    "    C22=(lambda1+1)*(3*lambda1**2.+12.*lambda1+8.)/(60.*Et)\n",
    "    C11=1./3.*(1/Gt+lambda1/Ga)\n",
    "    q=C00/C22\n",
    "    p=(C02-C11)/C22\n",
    "    theta = m.atan(np.sqrt(4*q/(p**2.)-1.))\n",
    "    alpha=q**(1./4.)*np.cos(1/2.*theta);\n",
    "    beta=q**(1./4.)*np.sin(1/2.*theta);\n",
    "        \n",
    "    # Limiting value for the stiffness degradation (Hashin)\n",
    "    C_lim=1./E_0+k1**2./(lambda1+1.)*(1/Et+1./(lambda1*Ea))\n",
    "    Elim=1./C_lim\n",
    "    \n",
    "    # Stiffness as function of the crack density assuming equal space between cracks and no interaction \n",
    "    rho=1/(2*c*t1)\n",
    "    eta = (3.*lambda1**2.+12.*lambda1+8.)/60.\n",
    "    chi=2*alpha*beta*(alpha**2+beta**2)*(np.cosh(2.*alpha*rho)-np.cos(2*beta*rho))/(alpha*np.sin(2*beta*rho)+beta*np.sinh(2*alpha*rho))\n",
    "    chi[np.isnan(chi)] = 0\n",
    "    compl=1/E_0+1/Et*k1**2*eta*chi/rho\n",
    "    Ex=1/compl\n",
    "       \n",
    "    # Return the output parameters. If normalise toggle is on, then normalise the stiffness before returning\n",
    "    if normToggle==1:\n",
    "        return Ex/E_0, c, Elim/E_0\n",
    "    else:\n",
    "        return Ex, c, Elim"
   ]
  },
  {
   "cell_type": "markdown",
   "metadata": {},
   "source": [
    "Now let's try to use the function using the same parameters as in Hashin 1985 (note that the warnings below are caused for a crack density of zero and can be ignored):"
   ]
  },
  {
   "cell_type": "code",
   "execution_count": 3,
   "metadata": {},
   "outputs": [
    {
     "name": "stdout",
     "output_type": "stream",
     "text": [
      "t2=0.203, t1=0.609, h=0.812, Ea=41.7, Et=13.0--> E0=20.174999999999997\n"
     ]
    },
    {
     "name": "stderr",
     "output_type": "stream",
     "text": [
      "C:\\ProgramData\\Anaconda3\\lib\\site-packages\\ipykernel_launcher.py:66: RuntimeWarning: divide by zero encountered in true_divide\n",
      "C:\\ProgramData\\Anaconda3\\lib\\site-packages\\ipykernel_launcher.py:68: RuntimeWarning: invalid value encountered in cos\n",
      "C:\\ProgramData\\Anaconda3\\lib\\site-packages\\ipykernel_launcher.py:68: RuntimeWarning: invalid value encountered in sin\n"
     ]
    }
   ],
   "source": [
    "t2=0.203\n",
    "t1=3*t2\n",
    "E_a=41.7\n",
    "nu_a=0.30\n",
    "E_t=13.\n",
    "nu_t=0.42\n",
    "G_a=3.4\n",
    "G_t=4.580\n",
    "cMax=1     \n",
    "\n",
    "ExNorm,c,ElimNorm = hashin1985(E_a, E_t, G_a, G_t, nu_a, nu_t, t1, t2, cMax)"
   ]
  },
  {
   "cell_type": "markdown",
   "metadata": {},
   "source": [
    "And plot the results:"
   ]
  },
  {
   "cell_type": "code",
   "execution_count": 4,
   "metadata": {},
   "outputs": [
    {
     "data": {
      "text/plain": [
       "<matplotlib.legend.Legend at 0x82da6a0>"
      ]
     },
     "execution_count": 4,
     "metadata": {},
     "output_type": "execute_result"
    },
    {
     "data": {
      "image/png": "[encoded data removed]",
      "text/plain": [
       "<matplotlib.figure.Figure at 0x7ed5cf8>"
      ]
     },
     "metadata": {},
     "output_type": "display_data"
    }
   ],
   "source": [
    "# Plot figure\n",
    "plt.figure()\n",
    "ax=plt.gca()\n",
    "plt.plot(c,ExNorm,linewidth=3,label='Hashin 1985, Eq. 2.46')\n",
    "plt.ylabel('$E_x$/$E_0$', fontsize=16)\n",
    "plt.xlabel('Crack density [cracks/mm]', fontsize=16)\n",
    "plt.title('Hashin 1985 Fig. 3 replicate $[0,90_3]_s$', fontsize=20)\n",
    "ax.set_ylim([0,1])\n",
    "ax.set_xlim([0,cMax])\n",
    "plt.plot((0, cMax), (ElimNorm, ElimNorm), 'k--',linewidth=3,label='Hashin 1985, Eq. 2.51 (Lower Bound)')\n",
    "plt.legend(numpoints=1)"
   ]
  }
 ],
 "metadata": {
  "kernelspec": {
   "display_name": "Python 3",
   "language": "python",
   "name": "python3"
  },
  "language_info": {
   "codemirror_mode": {
    "name": "ipython",
    "version": 3
   },
   "file_extension": ".py",
   "mimetype": "text/x-python",
   "name": "python",
   "nbconvert_exporter": "python",
   "pygments_lexer": "ipython3",
   "version": "3.6.1"
  }
 },
 "nbformat": 4,
 "nbformat_minor": 2
}
